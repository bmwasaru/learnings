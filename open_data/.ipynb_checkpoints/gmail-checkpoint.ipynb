{
 "metadata": {
  "name": ""
 },
 "nbformat": 3,
 "nbformat_minor": 0,
 "worksheets": [
  {
   "cells": [
    {
     "cell_type": "code",
     "collapsed": false,
     "input": [
      "import sys\n",
      "import imaplib\n",
      "import getpass\n",
      "import email\n",
      "import datetime\n",
      "\n",
      "M = imaplib.IMAP4_SSL('imap.gmail.com')\n",
      "\n",
      "try:\n",
      "    M.login('notatallawhistleblowerIswear@gmail.com', getpass.getpass())\n",
      "except imaplib.IMAP4.error:\n",
      "    print \"LOGIN FAILED!!! \""
     ],
     "language": "python",
     "metadata": {},
     "outputs": []
    }
   ],
   "metadata": {}
  }
 ]
}