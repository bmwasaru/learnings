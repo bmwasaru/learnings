{
 "cells": [
  {
   "cell_type": "code",
   "id": "initial_id",
   "metadata": {
    "collapsed": true,
    "ExecuteTime": {
     "end_time": "2024-07-19T08:33:40.479326Z",
     "start_time": "2024-07-19T08:33:40.473313Z"
    }
   },
   "source": [
    "users = [\n",
    "        { \"id\": 0, \"name\": \"Hero\" },\n",
    "        { \"id\": 1, \"name\": \"Dunn\" },\n",
    "        { \"id\": 2, \"name\": \"Sue\" },\n",
    "        { \"id\": 3, \"name\": \"Chi\" },\n",
    "        { \"id\": 4, \"name\": \"Thor\" },\n",
    "        { \"id\": 5, \"name\": \"Clive\" },\n",
    "        { \"id\": 6, \"name\": \"Hicks\" },\n",
    "        { \"id\": 7, \"name\": \"Devin\" },\n",
    "        { \"id\": 8, \"name\": \"Kate\" },\n",
    "        { \"id\": 9, \"name\": \"Klein\" }\n",
    "]\n",
    "\n",
    "friendships = [(0, 1), (0, 2), (1, 2), (1, 3), (2, 3), (3, 4),\n",
    "                   (4, 5), (5, 6), (5, 7), (6, 8), (7, 8), (8, 9)]"
   ],
   "outputs": [],
   "execution_count": 1
  },
  {
   "metadata": {
    "ExecuteTime": {
     "end_time": "2024-07-19T08:36:09.376956Z",
     "start_time": "2024-07-19T08:36:09.373651Z"
    }
   },
   "cell_type": "code",
   "source": [
    "for user in users:\n",
    "        user[\"friends\"] = []\n",
    "        \n",
    "for i, j in friendships:\n",
    "        users[i][\"friends\"].append(users[j])\n",
    "        users[j][\"friends\"].append(users[i])\n",
    "\n",
    "print(users[0])"
   ],
   "id": "77da5b49f97e68bd",
   "outputs": [
    {
     "name": "stdout",
     "output_type": "stream",
     "text": [
      "{'id': 0, 'name': 'Hero', 'friends': [{'id': 1, 'name': 'Dunn', 'friends': [{...}, {'id': 2, 'name': 'Sue', 'friends': [{...}, {...}, {'id': 3, 'name': 'Chi', 'friends': [{...}, {...}, {'id': 4, 'name': 'Thor', 'friends': [{...}, {'id': 5, 'name': 'Clive', 'friends': [{...}, {'id': 6, 'name': 'Hicks', 'friends': [{...}, {'id': 8, 'name': 'Kate', 'friends': [{...}, {'id': 7, 'name': 'Devin', 'friends': [{...}, {...}]}, {'id': 9, 'name': 'Klein', 'friends': [{...}]}]}]}, {'id': 7, 'name': 'Devin', 'friends': [{...}, {'id': 8, 'name': 'Kate', 'friends': [{'id': 6, 'name': 'Hicks', 'friends': [{...}, {...}]}, {...}, {'id': 9, 'name': 'Klein', 'friends': [{...}]}]}]}]}]}]}]}, {'id': 3, 'name': 'Chi', 'friends': [{...}, {'id': 2, 'name': 'Sue', 'friends': [{...}, {...}, {...}]}, {'id': 4, 'name': 'Thor', 'friends': [{...}, {'id': 5, 'name': 'Clive', 'friends': [{...}, {'id': 6, 'name': 'Hicks', 'friends': [{...}, {'id': 8, 'name': 'Kate', 'friends': [{...}, {'id': 7, 'name': 'Devin', 'friends': [{...}, {...}]}, {'id': 9, 'name': 'Klein', 'friends': [{...}]}]}]}, {'id': 7, 'name': 'Devin', 'friends': [{...}, {'id': 8, 'name': 'Kate', 'friends': [{'id': 6, 'name': 'Hicks', 'friends': [{...}, {...}]}, {...}, {'id': 9, 'name': 'Klein', 'friends': [{...}]}]}]}]}]}]}]}, {'id': 2, 'name': 'Sue', 'friends': [{...}, {'id': 1, 'name': 'Dunn', 'friends': [{...}, {...}, {'id': 3, 'name': 'Chi', 'friends': [{...}, {...}, {'id': 4, 'name': 'Thor', 'friends': [{...}, {'id': 5, 'name': 'Clive', 'friends': [{...}, {'id': 6, 'name': 'Hicks', 'friends': [{...}, {'id': 8, 'name': 'Kate', 'friends': [{...}, {'id': 7, 'name': 'Devin', 'friends': [{...}, {...}]}, {'id': 9, 'name': 'Klein', 'friends': [{...}]}]}]}, {'id': 7, 'name': 'Devin', 'friends': [{...}, {'id': 8, 'name': 'Kate', 'friends': [{'id': 6, 'name': 'Hicks', 'friends': [{...}, {...}]}, {...}, {'id': 9, 'name': 'Klein', 'friends': [{...}]}]}]}]}]}]}]}, {'id': 3, 'name': 'Chi', 'friends': [{'id': 1, 'name': 'Dunn', 'friends': [{...}, {...}, {...}]}, {...}, {'id': 4, 'name': 'Thor', 'friends': [{...}, {'id': 5, 'name': 'Clive', 'friends': [{...}, {'id': 6, 'name': 'Hicks', 'friends': [{...}, {'id': 8, 'name': 'Kate', 'friends': [{...}, {'id': 7, 'name': 'Devin', 'friends': [{...}, {...}]}, {'id': 9, 'name': 'Klein', 'friends': [{...}]}]}]}, {'id': 7, 'name': 'Devin', 'friends': [{...}, {'id': 8, 'name': 'Kate', 'friends': [{'id': 6, 'name': 'Hicks', 'friends': [{...}, {...}]}, {...}, {'id': 9, 'name': 'Klein', 'friends': [{...}]}]}]}]}]}]}]}]}\n"
     ]
    }
   ],
   "execution_count": 4
  },
  {
   "metadata": {
    "ExecuteTime": {
     "end_time": "2024-07-19T08:38:49.765487Z",
     "start_time": "2024-07-19T08:38:49.762652Z"
    }
   },
   "cell_type": "code",
   "source": [
    "# total number of friends for a user\n",
    "def number_of_friends(user):\n",
    "        # how many friends does a user have?\n",
    "        return len(user[\"friends\"])\n",
    "\n",
    "total_connections = sum(number_of_friends(user) for user in users)\n",
    "print(total_connections)"
   ],
   "id": "e3dbbe0caee3ef15",
   "outputs": [
    {
     "name": "stdout",
     "output_type": "stream",
     "text": [
      "24\n"
     ]
    }
   ],
   "execution_count": 5
  },
  {
   "metadata": {
    "ExecuteTime": {
     "end_time": "2024-07-19T08:39:52.976453Z",
     "start_time": "2024-07-19T08:39:52.973391Z"
    }
   },
   "cell_type": "code",
   "source": [
    "from __future__ import division\n",
    "\n",
    "num_of_users = len(users)\n",
    "avg_connections = total_connections / num_of_users\n",
    "print(avg_connections)"
   ],
   "id": "cac1f3a0f94b7aba",
   "outputs": [
    {
     "name": "stdout",
     "output_type": "stream",
     "text": [
      "2.4\n"
     ]
    }
   ],
   "execution_count": 7
  },
  {
   "metadata": {
    "ExecuteTime": {
     "end_time": "2024-07-19T08:46:30.097949Z",
     "start_time": "2024-07-19T08:46:30.091267Z"
    }
   },
   "cell_type": "code",
   "source": [
    "# most connected people\n",
    "\n",
    "# create a list (user, number_of_friends)\n",
    "num_friends_by_id = [(user[\"id\"], number_of_friends(user)) for user in users]\n",
    "# sort by num_friends from largest to smallest\n",
    "sorted(num_friends_by_id, key=lambda x: x[1], reverse=True)"
   ],
   "id": "919dbb9f5d7e2637",
   "outputs": [
    {
     "data": {
      "text/plain": [
       "[(1, 3),\n",
       " (2, 3),\n",
       " (3, 3),\n",
       " (5, 3),\n",
       " (8, 3),\n",
       " (0, 2),\n",
       " (4, 2),\n",
       " (6, 2),\n",
       " (7, 2),\n",
       " (9, 1)]"
      ]
     },
     "execution_count": 8,
     "metadata": {},
     "output_type": "execute_result"
    }
   ],
   "execution_count": 8
  },
  {
   "metadata": {
    "ExecuteTime": {
     "end_time": "2024-07-19T08:55:14.183436Z",
     "start_time": "2024-07-19T08:55:14.177316Z"
    }
   },
   "cell_type": "code",
   "source": [
    "def friends_of_friends_ids_bad(user):\n",
    "        # foaf is short of friend of a friend\n",
    "        return [foaf[\"id\"]\n",
    "                for friend in user[\"friends\"] # for each of user's friends\n",
    "                for foaf in friend[\"friends\"]] # for each of their friends\n",
    "\n",
    "friends_of_friends_ids_bad(users[0])"
   ],
   "id": "9c3728f4c517045a",
   "outputs": [
    {
     "data": {
      "text/plain": [
       "[0, 2, 3, 0, 1, 3]"
      ]
     },
     "execution_count": 9,
     "metadata": {},
     "output_type": "execute_result"
    }
   ],
   "execution_count": 9
  },
  {
   "metadata": {
    "ExecuteTime": {
     "end_time": "2024-07-19T08:57:02.607549Z",
     "start_time": "2024-07-19T08:57:02.603830Z"
    }
   },
   "cell_type": "code",
   "source": [
    "print([friend[\"id\"] for friend in users[0][\"friends\"]])\n",
    "print([friend[\"id\"] for friend in users[1][\"friends\"]])\n",
    "print([friend[\"id\"] for friend in users[2][\"friends\"]])"
   ],
   "id": "c684e7e29b7c7f2f",
   "outputs": [
    {
     "name": "stdout",
     "output_type": "stream",
     "text": [
      "[1, 2]\n",
      "[0, 2, 3]\n",
      "[0, 1, 3]\n"
     ]
    }
   ],
   "execution_count": 10
  },
  {
   "metadata": {
    "ExecuteTime": {
     "end_time": "2024-07-19T09:25:38.757743Z",
     "start_time": "2024-07-19T09:25:38.752875Z"
    }
   },
   "cell_type": "code",
   "source": [
    "# note this is not the same as what's in the book\n",
    "# count of mutual friends\n",
    "\n",
    "from collections import Counter\n",
    "\n",
    "def not_the_same(user_id, other_user_id):\n",
    "        \"\"\"two users are not the same if they have different ids\"\"\"\n",
    "        return user_id != other_user_id\n",
    "\n",
    "def not_a_friend(user_id, other_user_id):\n",
    "        \"\"\"other is not a friend if not in user[\"friends\"], if not_the_same as all people in user[\"friends\"]\"\"\"\n",
    "        return all(not_the_same(friend, other_user_id)\n",
    "                   \n",
    "                   for friend in users[user_id][\"friends\"])\n",
    "\n",
    "def friends_of_friend_ids(user_id):\n",
    "        return Counter(foaf[\"id\"]\n",
    "                       for friend in users[user_id][\"friends\"]  # for each of my friends\n",
    "                       for foaf in friend[\"friends\"]  # count their friends\n",
    "                       if not_the_same(user_id, foaf)  # who aren't me\n",
    "                       and not_a_friend(user_id, foaf)) # and aren't my friends\n",
    "\n",
    "print(friends_of_friend_ids(3))"
   ],
   "id": "e5835eb6b90780c3",
   "outputs": [
    {
     "name": "stdout",
     "output_type": "stream",
     "text": [
      "Counter({3: 3, 0: 2, 5: 1})\n"
     ]
    }
   ],
   "execution_count": 15
  },
  {
   "metadata": {
    "ExecuteTime": {
     "end_time": "2024-07-19T09:28:11.318158Z",
     "start_time": "2024-07-19T09:28:11.312301Z"
    }
   },
   "cell_type": "code",
   "source": [
    "# users' ids and their interests\n",
    "\n",
    "interests = [\n",
    "        (0, \"Hadoop\"), (0, \"Big Data\"), (0, \"HBase\"), (0, \"Java\"),\n",
    "        (0, \"Spark\"), (0, \"Storm\"), (0, \"Cassandra\"),\n",
    "        (1, \"NoSQL\"), (1, \"MongoDB\"), (1, \"Cassandra\"), (1, \"HBase\"),\n",
    "        (1, \"Postgres\"), (2, \"Python\"), (2, \"scikit-learn\"), (2, \"scipy\"),\n",
    "        (2, \"numpy\"), (2, \"statsmodels\"), (2, \"pandas\"), (3, \"R\"), (3, \"Python\"),\n",
    "        (3, \"statistics\"), (3, \"regression\"), (3, \"probability\"),\n",
    "        (4, \"machine learning\"), (4, \"regression\"), (4, \"decision trees\"),\n",
    "        (4, \"libsvm\"), (5, \"Python\"), (5, \"R\"), (5, \"Java\"), (5, \"C++\"),\n",
    "        (5, \"Haskell\"), (5, \"programming languages\"), (6, \"statistics\"),\n",
    "        (6, \"probability\"), (6, \"mathematics\"), (6, \"theory\"),\n",
    "        (7, \"machine learning\"), (7, \"scikit-learn\"), (7, \"Mahout\"),\n",
    "        (7, \"neural networks\"), (8, \"neural networks\"), (8, \"deep learning\"),\n",
    "        (8, \"Big Data\"), (8, \"artificial intelligence\"), (9, \"Hadoop\"),\n",
    "        (9, \"Java\"), (9, \"MapReduce\"), (9, \"Big Data\")\n",
    "]"
   ],
   "id": "f63cf8d970914e62",
   "outputs": [],
   "execution_count": 16
  },
  {
   "metadata": {
    "ExecuteTime": {
     "end_time": "2024-07-19T09:38:20.171236Z",
     "start_time": "2024-07-19T09:38:20.165020Z"
    }
   },
   "cell_type": "code",
   "source": [
    "# find users with a specific interest\n",
    "# this is slow if we hava a lot of users and interests\n",
    "\n",
    "def data_scientists_who_like(target_interest):\n",
    "        return [user_id\n",
    "                for user_id, user_interest in interests\n",
    "                if user_interest == target_interest]\n",
    "\n",
    "# let's build an index from interests to users\n",
    "\n",
    "from collections import defaultdict\n",
    "\n",
    "# keys are interests, values are lists of user_ids with that interest\n",
    "user_ids_by_interest = defaultdict(list)\n",
    "for user_id, interest in interests:\n",
    "        user_ids_by_interest[interest].append(user_id)\n",
    "        \n",
    "# keys of user_ids, values are lists of interests for that user_id\n",
    "interests_by_user_id = defaultdict(list)\n",
    "for user_id, interest in interests:\n",
    "        interests_by_user_id[user_id].append(interest)\n",
    "        \n",
    "def most_common_interests_with(user):\n",
    "        return Counter(interested_user_id\n",
    "                       for interest in interests_by_user_id[user[\"id\"]]\n",
    "                       for interested_user_id in user_ids_by_interest[interest]\n",
    "                       if interested_user_id != user[\"id\"])\n",
    "\n",
    "most_common_interests_with(users[3])"
   ],
   "id": "7c7d1f2804f7f932",
   "outputs": [
    {
     "data": {
      "text/plain": [
       "Counter({5: 2, 6: 2, 2: 1, 4: 1})"
      ]
     },
     "execution_count": 17,
     "metadata": {},
     "output_type": "execute_result"
    }
   ],
   "execution_count": 17
  },
  {
   "metadata": {
    "ExecuteTime": {
     "end_time": "2024-07-19T10:01:05.728929Z",
     "start_time": "2024-07-19T10:01:05.725468Z"
    }
   },
   "cell_type": "code",
   "source": [
    "# salary (in dollars) and tenure (in years)\n",
    "\n",
    "salaries_and_tenures = [(83000, 8.7), (88000, 8.1),\n",
    "                            (48000, 0.7), (76000, 6),\n",
    "                            (69000, 6.5), (76000, 7.5),\n",
    "                            (60000, 2.5), (83000, 10),\n",
    "                            (48000, 1.9), (63000, 4.2)]"
   ],
   "id": "e3a92c237679ef",
   "outputs": [],
   "execution_count": 18
  },
  {
   "metadata": {
    "ExecuteTime": {
     "end_time": "2024-07-19T10:06:43.697785Z",
     "start_time": "2024-07-19T10:06:43.695118Z"
    }
   },
   "cell_type": "code",
   "source": [
    "# keys are years, values are list of salaries for each tenure\n",
    "salary_by_tenure = defaultdict(list)\n",
    "\n",
    "for salary, tenure in salaries_and_tenures:\n",
    "    salary_by_tenure[tenure].append(salary)\n",
    "    \n",
    "# keys are years, values are average salary for that tenure\n",
    "average_salary_by_tenure = {\n",
    "    tenure: sum(salaries) / len(salaries)\n",
    "    for tenure, salaries in salary_by_tenure.items()\n",
    "}\n",
    "\n",
    "print(average_salary_by_tenure)\n"
   ],
   "id": "3afb588d6edfeeb5",
   "outputs": [
    {
     "name": "stdout",
     "output_type": "stream",
     "text": [
      "{8.7: 83000.0, 8.1: 88000.0, 0.7: 48000.0, 6: 76000.0, 6.5: 69000.0, 7.5: 76000.0, 2.5: 60000.0, 10: 83000.0, 1.9: 48000.0, 4.2: 63000.0}\n"
     ]
    }
   ],
   "execution_count": 19
  },
  {
   "metadata": {
    "ExecuteTime": {
     "end_time": "2024-07-19T10:13:53.620987Z",
     "start_time": "2024-07-19T10:13:53.615381Z"
    }
   },
   "cell_type": "code",
   "source": [
    "# bucket the tenures\n",
    "\n",
    "def tenure_bucket(tenure):\n",
    "    if tenure < 2:\n",
    "        return \"less than two\"\n",
    "    elif tenure > 5:\n",
    "        return \"between two and five\"\n",
    "    else:\n",
    "        return \"more than five\"\n",
    "    \n",
    "# group salaries corresponding to each bucket\n",
    "\n",
    "# keys are tenure buckets, values are salaries for that bucket\n",
    "salary_by_tenure_bucket = defaultdict(list)\n",
    "for salary, tenure in salaries_and_tenures:\n",
    "    bucket = tenure_bucket(tenure)\n",
    "    salary_by_tenure_bucket[bucket].append(salary)\n",
    "    \n",
    "# compute average salary for each group\n",
    "\n",
    "# keys are tenure buckets, values are average salary for that bucket\n",
    "average_salary_by_tenure_bucket = {\n",
    "    tenure_bucket: sum(salaries) / len(salaries)\n",
    "    for tenure_bucket, salaries in salary_by_tenure_bucket.items()\n",
    "}\n",
    "\n",
    "print(average_salary_by_tenure_bucket)"
   ],
   "id": "2540e14f29475949",
   "outputs": [
    {
     "name": "stdout",
     "output_type": "stream",
     "text": [
      "{'between two and five': 79166.66666666667, 'less than two': 48000.0, 'more than five': 61500.0}\n"
     ]
    }
   ],
   "execution_count": 21
  },
  {
   "metadata": {
    "ExecuteTime": {
     "end_time": "2024-07-19T10:46:10.807434Z",
     "start_time": "2024-07-19T10:46:10.803817Z"
    }
   },
   "cell_type": "code",
   "source": [
    "# topics users are most interested in\n",
    "\n",
    "words_and_count = Counter(word\n",
    "                          for user, interest in interests\n",
    "                          for word in interest.lower().split())\n",
    "\n",
    "# list out words that occur more than one\n",
    "for word, count in words_and_count.most_common():\n",
    "    if count > 1:\n",
    "        print(word, count)"
   ],
   "id": "59ad13aaf6e3d453",
   "outputs": [
    {
     "name": "stdout",
     "output_type": "stream",
     "text": [
      "big 3\n",
      "data 3\n",
      "java 3\n",
      "python 3\n",
      "learning 3\n",
      "hadoop 2\n",
      "hbase 2\n",
      "cassandra 2\n",
      "scikit-learn 2\n",
      "r 2\n",
      "statistics 2\n",
      "regression 2\n",
      "probability 2\n",
      "machine 2\n",
      "neural 2\n",
      "networks 2\n"
     ]
    }
   ],
   "execution_count": 22
  },
  {
   "metadata": {},
   "cell_type": "code",
   "outputs": [],
   "execution_count": null,
   "source": "",
   "id": "1c72e8aa2d69260d"
  }
 ],
 "metadata": {
  "kernelspec": {
   "display_name": "Python 3",
   "language": "python",
   "name": "python3"
  },
  "language_info": {
   "codemirror_mode": {
    "name": "ipython",
    "version": 2
   },
   "file_extension": ".py",
   "mimetype": "text/x-python",
   "name": "python",
   "nbconvert_exporter": "python",
   "pygments_lexer": "ipython2",
   "version": "2.7.6"
  }
 },
 "nbformat": 4,
 "nbformat_minor": 5
}
